{
  "nbformat": 4,
  "nbformat_minor": 0,
  "metadata": {
    "colab": {
      "provenance": [],
      "authorship_tag": "ABX9TyNkMZkP5384YJSe1+8Xe2xx",
      "include_colab_link": true
    },
    "kernelspec": {
      "name": "python3",
      "display_name": "Python 3"
    },
    "language_info": {
      "name": "python"
    }
  },
  "cells": [
    {
      "cell_type": "markdown",
      "metadata": {
        "id": "view-in-github",
        "colab_type": "text"
      },
      "source": [
        "<a href=\"https://colab.research.google.com/github/Ishansingh438/Face-emotion-recognition/blob/main/Ishan_Singh_Face_emotion_recognition.ipynb\" target=\"_parent\"><img src=\"https://colab.research.google.com/assets/colab-badge.svg\" alt=\"Open In Colab\"/></a>"
      ]
    },
    {
      "cell_type": "markdown",
      "source": [
        "# Project Introduction\n",
        "\n",
        "The Indian education landscape has been undergoing rapid changes for the past 10 years owing to\n",
        "the advancement of web-based learning services, specifically, eLearning platforms.\n",
        "\n",
        "Global E-learning is estimated to witness an 8X over the next 5 years to reach USD 2B in 2021. India\n",
        "is expected to grow with a CAGR of 44% crossing the 10M users mark in 2021. Although the market\n",
        "is growing on a rapid scale, there are major challenges associated with digital learning when\n",
        "compared with brick and mortar classrooms. One of many challenges is how to ensure quality\n",
        "learning for students. Digital platforms might overpower physical classrooms in terms of content\n",
        "quality but when it comes to understanding whether students are able to grasp the content in a live\n",
        "class scenario is yet an open-end challenge.\n",
        "\n",
        "In a physical classroom during a lecturing teacher can see the faces and assess the emotion of the\n",
        "class and tune their lecture accordingly, whether he is going fast or slow. He can identify students who\n",
        "need special attention. Digital classrooms are conducted via video telephony software program (exZoom) where it’s not possible for medium scale class (25-50) to see all students and access the\n",
        "mood. Because of this drawback, students are not focusing on content due to lack of surveillance.\n",
        "While digital platforms have limitations in terms of physical surveillance but it comes with the power of\n",
        "data and machines which can work for you. It provides data in the form of video, audio, and texts\n",
        "which can be analysed using deep learning algorithms. Deep learning backed system not only solves\n",
        "the surveillance issue, but it also removes the human bias from the system, and all information is no\n",
        "longer in the teacher’s brain rather translated in numbers that can be analysed and tracked.\n",
        "\n",
        "\n"
      ],
      "metadata": {
        "id": "V-NsKl6YlXri"
      }
    },
    {
      "cell_type": "markdown",
      "source": [
        "# Problem Statements\n",
        "\n",
        "We will solve the above-mentioned challenge by applying deep learning algorithms to live video data.\n",
        "The solution to this problem is by recognizing facial emotions."
      ],
      "metadata": {
        "id": "LcUOKBculjim"
      }
    },
    {
      "cell_type": "markdown",
      "source": [
        "# Face Emotion Recognition\n",
        "\n",
        "This is a few shot learning live face emotion detection system. The model should be able to real-time\n",
        "identify the emotions of students in a live class.\n"
      ],
      "metadata": {
        "id": "1zyUnSaElyTx"
      }
    },
    {
      "cell_type": "code",
      "execution_count": null,
      "metadata": {
        "colab": {
          "base_uri": "https://localhost:8080/"
        },
        "id": "yOj529fvlA0b",
        "outputId": "2d34e484-ad27-48b1-9925-5abce8f3c5ec"
      },
      "outputs": [
        {
          "output_type": "stream",
          "name": "stdout",
          "text": [
            "Looking in indexes: https://pypi.org/simple, https://us-python.pkg.dev/colab-wheels/public/simple/\n",
            "Collecting livelossplot\n",
            "  Downloading livelossplot-0.5.5-py3-none-any.whl (22 kB)\n",
            "Requirement already satisfied: matplotlib in /usr/local/lib/python3.7/dist-packages (from livelossplot) (3.2.2)\n",
            "Requirement already satisfied: bokeh in /usr/local/lib/python3.7/dist-packages (from livelossplot) (2.3.3)\n",
            "Requirement already satisfied: numpy<1.22 in /usr/local/lib/python3.7/dist-packages (from livelossplot) (1.21.6)\n",
            "Requirement already satisfied: ipython==7.* in /usr/local/lib/python3.7/dist-packages (from livelossplot) (7.9.0)\n",
            "Collecting jedi>=0.10\n",
            "  Downloading jedi-0.18.1-py2.py3-none-any.whl (1.6 MB)\n",
            "\u001b[K     |████████████████████████████████| 1.6 MB 5.4 MB/s \n",
            "\u001b[?25hRequirement already satisfied: prompt-toolkit<2.1.0,>=2.0.0 in /usr/local/lib/python3.7/dist-packages (from ipython==7.*->livelossplot) (2.0.10)\n",
            "Requirement already satisfied: decorator in /usr/local/lib/python3.7/dist-packages (from ipython==7.*->livelossplot) (4.4.2)\n",
            "Requirement already satisfied: pygments in /usr/local/lib/python3.7/dist-packages (from ipython==7.*->livelossplot) (2.6.1)\n",
            "Requirement already satisfied: setuptools>=18.5 in /usr/local/lib/python3.7/dist-packages (from ipython==7.*->livelossplot) (57.4.0)\n",
            "Requirement already satisfied: pexpect in /usr/local/lib/python3.7/dist-packages (from ipython==7.*->livelossplot) (4.8.0)\n",
            "Requirement already satisfied: pickleshare in /usr/local/lib/python3.7/dist-packages (from ipython==7.*->livelossplot) (0.7.5)\n",
            "Requirement already satisfied: traitlets>=4.2 in /usr/local/lib/python3.7/dist-packages (from ipython==7.*->livelossplot) (5.1.1)\n",
            "Requirement already satisfied: backcall in /usr/local/lib/python3.7/dist-packages (from ipython==7.*->livelossplot) (0.2.0)\n",
            "Requirement already satisfied: parso<0.9.0,>=0.8.0 in /usr/local/lib/python3.7/dist-packages (from jedi>=0.10->ipython==7.*->livelossplot) (0.8.3)\n",
            "Requirement already satisfied: wcwidth in /usr/local/lib/python3.7/dist-packages (from prompt-toolkit<2.1.0,>=2.0.0->ipython==7.*->livelossplot) (0.2.5)\n",
            "Requirement already satisfied: six>=1.9.0 in /usr/local/lib/python3.7/dist-packages (from prompt-toolkit<2.1.0,>=2.0.0->ipython==7.*->livelossplot) (1.15.0)\n",
            "Requirement already satisfied: python-dateutil>=2.1 in /usr/local/lib/python3.7/dist-packages (from bokeh->livelossplot) (2.8.2)\n",
            "Requirement already satisfied: pillow>=7.1.0 in /usr/local/lib/python3.7/dist-packages (from bokeh->livelossplot) (7.1.2)\n",
            "Requirement already satisfied: packaging>=16.8 in /usr/local/lib/python3.7/dist-packages (from bokeh->livelossplot) (21.3)\n",
            "Requirement already satisfied: typing-extensions>=3.7.4 in /usr/local/lib/python3.7/dist-packages (from bokeh->livelossplot) (4.1.1)\n",
            "Requirement already satisfied: tornado>=5.1 in /usr/local/lib/python3.7/dist-packages (from bokeh->livelossplot) (5.1.1)\n",
            "Requirement already satisfied: PyYAML>=3.10 in /usr/local/lib/python3.7/dist-packages (from bokeh->livelossplot) (6.0)\n",
            "Requirement already satisfied: Jinja2>=2.9 in /usr/local/lib/python3.7/dist-packages (from bokeh->livelossplot) (2.11.3)\n",
            "Requirement already satisfied: MarkupSafe>=0.23 in /usr/local/lib/python3.7/dist-packages (from Jinja2>=2.9->bokeh->livelossplot) (2.0.1)\n",
            "Requirement already satisfied: pyparsing!=3.0.5,>=2.0.2 in /usr/local/lib/python3.7/dist-packages (from packaging>=16.8->bokeh->livelossplot) (3.0.9)\n",
            "Requirement already satisfied: cycler>=0.10 in /usr/local/lib/python3.7/dist-packages (from matplotlib->livelossplot) (0.11.0)\n",
            "Requirement already satisfied: kiwisolver>=1.0.1 in /usr/local/lib/python3.7/dist-packages (from matplotlib->livelossplot) (1.4.4)\n",
            "Requirement already satisfied: ptyprocess>=0.5 in /usr/local/lib/python3.7/dist-packages (from pexpect->ipython==7.*->livelossplot) (0.7.0)\n",
            "Installing collected packages: jedi, livelossplot\n",
            "Successfully installed jedi-0.18.1 livelossplot-0.5.5\n",
            "Tensorflow version: 2.8.2\n"
          ]
        }
      ],
      "source": [
        "#Importing required libraries and Dependencies\n",
        "\n",
        "import pandas as pd\n",
        "import numpy as np\n",
        "import seaborn as sns\n",
        "import matplotlib.pyplot as plt\n",
        "import tensorflow as tf\n",
        "import sklearn\n",
        "#import utils\n",
        "import os\n",
        "%matplotlib inline\n",
        "\n",
        "tf.keras.preprocessing.image.ImageDataGenerator\n",
        "tf.keras.layers.Dense\n",
        "tf.keras.layers.Input\n",
        "tf.keras.layers.Dropout\n",
        "tf.keras.layers.Flatten\n",
        "tf.keras.layers.Conv2D\n",
        "tf.keras.layers.BatchNormalization \n",
        "tf.keras.layers.Activation\n",
        "tf.keras.layers.MaxPooling2D\n",
        "tf.keras.Model\n",
        "tf.keras.Sequential\n",
        "\n",
        "tf.keras.optimizers.Adam\n",
        "\n",
        "tf.keras.callbacks.ModelCheckpoint\n",
        "tf.keras.callbacks.ReduceLROnPlateau\n",
        "tf.keras.callbacks.EarlyStopping\n",
        "\n",
        "tf.keras.utils.plot_model\n",
        "\n",
        "# sklearn.metrics.confusion_matrix\n",
        "# sklearn.metrics.accuracy_score\n",
        "\n",
        "import itertools\n",
        "\n",
        "from IPython.display import SVG, Image\n",
        "!pip install livelossplot\n",
        "from livelossplot import PlotLossesKeras\n",
        "\n",
        "from tensorflow import keras\n",
        "print(\"Tensorflow version:\", tf.__version__)"
      ]
    },
    {
      "cell_type": "code",
      "source": [
        "from google.colab import drive\n",
        "drive.mount('/content/drive')"
      ],
      "metadata": {
        "colab": {
          "base_uri": "https://localhost:8080/"
        },
        "id": "3iX8khNeotk7",
        "outputId": "cb2129ca-3a45-4994-e575-8692dec07fe8"
      },
      "execution_count": null,
      "outputs": [
        {
          "output_type": "stream",
          "name": "stdout",
          "text": [
            "Mounted at /content/drive\n"
          ]
        }
      ]
    },
    {
      "cell_type": "code",
      "source": [
        "# Train and test data loading\n",
        "\n",
        "train_dir = ''\n",
        "test_dir = ''\n",
        "\n",
        "train_dir = 'train/'\n",
        "test_dir = 'test/'"
      ],
      "metadata": {
        "id": "XXHhJiVro-N6"
      },
      "execution_count": null,
      "outputs": []
    },
    {
      "cell_type": "markdown",
      "source": [
        "# Data Visualization"
      ],
      "metadata": {
        "id": "uryA9ZnXvHF2"
      }
    },
    {
      "cell_type": "code",
      "source": [
        "# Defining a function to plot some images from different classes\n",
        "\n",
        "def plot_images(img_dir, top=10):\n",
        "    all_img_dirs = os.listdir(img_dir)\n",
        "    img_files = [os.path.join(img_dir, file) for file in all_img_dirs][:5]\n",
        "  \n",
        "    plt.figure(figsize=(10, 10))\n",
        "  \n",
        "    for idx, img_path in enumerate(img_files):\n",
        "        plt.subplot(5, 5, idx+1)\n",
        "    \n",
        "        img = plt.imread(img_path)\n",
        "        plt.tight_layout()         \n",
        "        plt.imshow(img, cmap='Blues_r')"
      ],
      "metadata": {
        "id": "Aywx9IwJvGHS"
      },
      "execution_count": null,
      "outputs": []
    },
    {
      "cell_type": "code",
      "source": [
        "# angry class\n",
        "plot_images(train_dir+'angry')"
      ],
      "metadata": {
        "id": "cNiy1gW9vTVl"
      },
      "execution_count": null,
      "outputs": []
    },
    {
      "cell_type": "code",
      "source": [
        "# disgust class\n",
        "plot_images(train_dir+'/disgust'"
      ],
      "metadata": {
        "id": "5Afq1ecyvW6s"
      },
      "execution_count": null,
      "outputs": []
    },
    {
      "cell_type": "code",
      "source": [
        "# fear class\n",
        "plot_images(train_dir+'/fear')"
      ],
      "metadata": {
        "id": "pDXIZyIgvau3"
      },
      "execution_count": null,
      "outputs": []
    },
    {
      "cell_type": "code",
      "source": [
        "# happy class\n",
        "plot_images(train_dir+'/happy')"
      ],
      "metadata": {
        "id": "-PU6Oafrve3Q"
      },
      "execution_count": null,
      "outputs": []
    },
    {
      "cell_type": "code",
      "source": [
        "# neutral class\n",
        "plot_images(train_dir+'/neutral')"
      ],
      "metadata": {
        "id": "8tkDvv-vvm9C"
      },
      "execution_count": null,
      "outputs": []
    },
    {
      "cell_type": "code",
      "source": [
        "# sad class\n",
        "plot_images(train_dir+'/sad')"
      ],
      "metadata": {
        "id": "ATGLkx-fvqH6"
      },
      "execution_count": null,
      "outputs": []
    },
    {
      "cell_type": "code",
      "source": [
        "# surprise class\n",
        "plot_images(train_dir+'/surprise')"
      ],
      "metadata": {
        "id": "oV2xgK-wvrfQ"
      },
      "execution_count": null,
      "outputs": []
    },
    {
      "cell_type": "code",
      "source": [
        "for expression in os.listdir(\"train/\"):\n",
        "    print(str(len(os.listdir(\"train/\" + expression))) + \" \" + expression + \" images\")"
      ],
      "metadata": {
        "id": "Ngm4KsdRvvWo"
      },
      "execution_count": null,
      "outputs": []
    },
    {
      "cell_type": "markdown",
      "source": [
        "The dataset consists of 2 folders - training and test All the images of dataset are grayscale images of size 48*48. Both these folders consist of 7 folders each.(0=Angry, 1=Disgust, 2=Fear, 3=Happy, 4=Sad, 5=Surprise, 6=Neutral). The dataset contains approximately 36K images\n",
        "\n",
        "Dataset is converted into raw images and splitted in multiple folders which are train and validation folders. 80% of our images are contained inside the train folder, and the last 20% are inside the validation folder."
      ],
      "metadata": {
        "id": "FHkkr2ZLv0Th"
      }
    },
    {
      "cell_type": "markdown",
      "source": [
        "# Data Generators for ResNet"
      ],
      "metadata": {
        "id": "WUtOEdo4v4Li"
      }
    },
    {
      "cell_type": "code",
      "source": [
        "img_size = 48\n",
        "batch_size = 32\n",
        "\n",
        "# selecting colour mode as rgb as resnet is trained on rgb photos and we have grascaled images\n",
        "datagen_train = tf.keras.preprocessing.image.ImageDataGenerator(horizontal_flip=True,brightness_range=[0.8,1.2],rescale=1./255)\n",
        "train_generator = datagen_train.flow_from_directory(train_dir,\n",
        "                                                  target_size=(img_size,img_size),\n",
        "                                                  batch_size=batch_size,\n",
        "                                                  shuffle=True,\n",
        "                                                  color_mode='rgb',\n",
        "                                                  class_mode='categorical')\n",
        "\n",
        "datagen_validation = tf.keras.preprocessing.image.ImageDataGenerator(horizontal_flip=True,brightness_range=[0.8,1.2],rescale=1./255)\n",
        "validation_generator = datagen_train.flow_from_directory(test_dir,\n",
        "                                                  target_size=(img_size,img_size),\n",
        "                                                  batch_size=batch_size,\n",
        "                                                  shuffle=False,\n",
        "                                                  color_mode='rgb',\n",
        "                                                  class_mode='categorical')"
      ],
      "metadata": {
        "id": "TgEiqL5mv19E"
      },
      "execution_count": null,
      "outputs": []
    },
    {
      "cell_type": "markdown",
      "source": [
        "# Building CNN model with ResNet"
      ],
      "metadata": {
        "id": "PUOTeI4-v9CB"
      }
    },
    {
      "cell_type": "code",
      "source": [
        "# Using Pretrained model, RESNET50 architecture\n",
        "\n",
        "tf.keras.applications.resnet50.ResNet50"
      ],
      "metadata": {
        "id": "u5u811-Fv_3h"
      },
      "execution_count": null,
      "outputs": []
    },
    {
      "cell_type": "code",
      "source": [
        "# Creating a base model using resnet and loading the pretrained weights\n",
        "base_model = tf.keras.applications.resnet50.ResNet50(input_shape=(48,48,3),include_top = False, weights = 'imagenet')\n",
        "base_model.summary()"
      ],
      "metadata": {
        "id": "RxujfEBEwBuw"
      },
      "execution_count": null,
      "outputs": []
    },
    {
      "cell_type": "code",
      "source": [
        "# Making all the layers except last 4 layers non trainable \n",
        "for layer in base_model.layers[:-4]:\n",
        "    layer.trainable = False"
      ],
      "metadata": {
        "id": "JPDYqKhWwFui"
      },
      "execution_count": null,
      "outputs": []
    },
    {
      "cell_type": "code",
      "source": [
        "# Build model on the top of base model\n",
        "model = tf.keras.Sequential()\n",
        "\n",
        "model.add(base_model)\n",
        "model.add(tf.keras.layers.Dropout(0.2))\n",
        "model.add(tf.keras.layers.Flatten())\n",
        "model.add(tf.keras.layers.BatchNormalization())\n",
        "\n",
        "#Fully connected 1st layer\n",
        "model.add(tf.keras.layers.Dense(512,kernel_initializer='he_normal'))\n",
        "model.add(tf.keras.layers.BatchNormalization())\n",
        "model.add(tf.keras.layers.Activation('elu'))\n",
        "model.add(tf.keras.layers.Dropout(0.25))\n",
        "\n",
        "\n",
        "# Fully connected layer 2nd layer\n",
        "model.add(tf.keras.layers.Dense(256,kernel_initializer='he_normal'))\n",
        "model.add(tf.keras.layers.BatchNormalization())\n",
        "model.add(tf.keras.layers.Activation('elu'))\n",
        "model.add(tf.keras.layers.Dropout(0.25))\n",
        "\n",
        "#output layer\n",
        "model.add(tf.keras.layers.Dense(7, activation='softmax'))"
      ],
      "metadata": {
        "id": "kN5BlMpAwH82"
      },
      "execution_count": null,
      "outputs": []
    },
    {
      "cell_type": "code",
      "source": [
        "# Final model summary\n",
        "model.summary()"
      ],
      "metadata": {
        "id": "nAwXHqnTwKSi"
      },
      "execution_count": null,
      "outputs": []
    },
    {
      "cell_type": "code",
      "source": [
        "# Compiling the model\n",
        "\n",
        "model.compile(optimizer='adam', loss='categorical_crossentropy',\n",
        "              metrics=['accuracy'])\n"
      ],
      "metadata": {
        "id": "UBGMfn4cwQzW"
      },
      "execution_count": null,
      "outputs": []
    },
    {
      "cell_type": "code",
      "source": [
        "epochs=50\n",
        "steps_per_epoch=train_generator.n//train_generator.batch_size\n",
        "steps_per_epoch"
      ],
      "metadata": {
        "id": "ciMkAMz8wS7p"
      },
      "execution_count": null,
      "outputs": []
    },
    {
      "cell_type": "code",
      "source": [
        "validation_steps=validation_generator.n//validation_generator.batch_size\n",
        "validation_steps"
      ],
      "metadata": {
        "id": "pM6doEJewVU6"
      },
      "execution_count": null,
      "outputs": []
    },
    {
      "cell_type": "code",
      "source": [
        "# This decreases the learning rate if the model loss does not decrease \n",
        "reduce_lr = tf.keras.callbacks.ReduceLROnPlateau(monitor='val_loss', factor=0.1,\n",
        "                              patience=10, min_lr=0.00001, mode='auto')\n",
        "# To save model weights \n",
        "checkpoint = tf.keras.callbacks.ModelCheckpoint(\"model_weights_resnet.h5\", monitor='val_accuracy',\n",
        "                             save_weights_only=True, mode='max', verbose=1)\n",
        "early_stopping= tf.keras.callbacks.EarlyStopping(monitor='val_loss',\n",
        "                            min_delta=0,\n",
        "                            patience=10,\n",
        "                            verbose=1,\n",
        "                            restore_best_weights=True)\n",
        "callbacks = [checkpoint, reduce_lr,early_stopping]"
      ],
      "metadata": {
        "id": "bUQvq9LvwXwE"
      },
      "execution_count": null,
      "outputs": []
    },
    {
      "cell_type": "code",
      "source": [
        "# Fitting the model \n",
        "history = model.fit(\n",
        "    x=train_generator,\n",
        "    batch_size=batch_size,\n",
        "    epochs=epochs,\n",
        "    validation_data = validation_generator,\n",
        "    callbacks=callbacks,\n",
        "    verbose=1)"
      ],
      "metadata": {
        "id": "HrRBHUhHwZ2G"
      },
      "execution_count": null,
      "outputs": []
    }
  ]
}